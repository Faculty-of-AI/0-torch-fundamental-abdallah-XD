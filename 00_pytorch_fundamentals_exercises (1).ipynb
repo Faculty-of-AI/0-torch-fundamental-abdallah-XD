{
 "cells": [
  {
   "cell_type": "markdown",
   "metadata": {
    "id": "AzDBM_v4iMe7"
   },
   "source": [
    "# 00. PyTorch Fundamentals Exercises\n",
    "\n",
    "### 1. Documentation reading\n",
    "\n",
    "A big part of deep learning (and learning to code in general) is getting familiar with the documentation of a certain framework you're using. We'll be using the PyTorch documentation a lot throughout the rest of this course. So I'd recommend spending 10-minutes reading the following (it's okay if you don't get some things for now, the focus is not yet full understanding, it's awareness):\n",
    "  * The documentation on [`torch.Tensor`](https://pytorch.org/docs/stable/tensors.html#torch-tensor).\n",
    "  * The documentation on [`torch.cuda`](https://pytorch.org/docs/master/notes/cuda.html#cuda-semantics).\n",
    "\n"
   ]
  },
  {
   "cell_type": "code",
   "execution_count": 1,
   "metadata": {
    "id": "bGD0oD8Kizak"
   },
   "outputs": [],
   "source": [
    "# No code solution (reading)"
   ]
  },
  {
   "cell_type": "markdown",
   "metadata": {
    "id": "__iXqqz-ioUJ"
   },
   "source": [
    "### 2. Create a random tensor with shape `(7, 7)`.\n"
   ]
  },
  {
   "cell_type": "code",
   "execution_count": 16,
   "metadata": {
    "colab": {
     "base_uri": "https://localhost:8080/"
    },
    "id": "6pUq9Dc8i2L7",
    "outputId": "6f41e105-6b09-4732-aaed-3865e8a1a608"
   },
   "outputs": [
    {
     "name": "stdout",
     "output_type": "stream",
     "text": [
      "tensor([[0.3317, 0.5245, 0.1168, 0.1764, 0.8820, 0.5031, 0.2657],\n",
      "        [0.4395, 0.1501, 0.8427, 0.7513, 0.6883, 0.1013, 0.1495],\n",
      "        [0.0571, 0.8326, 0.9829, 0.1988, 0.4740, 0.0694, 0.8800],\n",
      "        [0.0100, 0.0762, 0.3380, 0.3792, 0.6782, 0.2284, 0.4433],\n",
      "        [0.4117, 0.2446, 0.9694, 0.1093, 0.1836, 0.1429, 0.0494],\n",
      "        [0.0524, 0.7142, 0.8216, 0.9065, 0.0866, 0.7628, 0.0959],\n",
      "        [0.8291, 0.4936, 0.6529, 0.1478, 0.6423, 0.9356, 0.3326]]) torch.Size([7, 7])\n"
     ]
    }
   ],
   "source": [
    "# Import torch\n",
    "import torch\n",
    "\n",
    "# Create random tensor\n",
    "tensor_A= torch.rand(7,7)\n",
    "print(tensor_A,tensor_A.shape)"
   ]
  },
  {
   "cell_type": "markdown",
   "metadata": {
    "id": "9-XxvRLfiqkR"
   },
   "source": [
    "### 3. Perform a matrix multiplication on the tensor from 2 with another random tensor with shape `(1, 7)` (hint: you may have to transpose the second tensor)."
   ]
  },
  {
   "cell_type": "code",
   "execution_count": 44,
   "metadata": {
    "colab": {
     "base_uri": "https://localhost:8080/"
    },
    "id": "NcLqR0Sbi_vT",
    "outputId": "cad439e2-cea0-4b8b-e50a-4f4eb14dc659"
   },
   "outputs": [
    {
     "data": {
      "text/plain": [
       "(tensor([[1.7488],\n",
       "         [2.0786],\n",
       "         [2.0697],\n",
       "         [1.5989],\n",
       "         [1.7942],\n",
       "         [1.9002],\n",
       "         [1.4212]]),\n",
       " torch.Size([7, 1]))"
      ]
     },
     "execution_count": 44,
     "metadata": {},
     "output_type": "execute_result"
    }
   ],
   "source": [
    "# Create another random tensor\n",
    "tensor_B = torch.rand(1,7)\n",
    "# Perform matrix multiplication\n",
    "multi_Tensor =torch.matmul(tensor_A,tensor_B.T)\n",
    "multi_Tensor , multi_Tensor.shape"
   ]
  },
  {
   "cell_type": "markdown",
   "metadata": {
    "id": "eiutdKUFiryU"
   },
   "source": [
    "### 4. Set the random seed to `0` and do 2 & 3 over again.\n",
    "\n",
    "The output should be:\n",
    "```\n",
    "(tensor([[1.8542],\n",
    "         [1.9611],\n",
    "         [2.2884],\n",
    "         [3.0481],\n",
    "         [1.7067],\n",
    "         [2.5290],\n",
    "         [1.7989]]), torch.Size([7, 1]))\n",
    "```"
   ]
  },
  {
   "cell_type": "code",
   "execution_count": 45,
   "metadata": {
    "colab": {
     "base_uri": "https://localhost:8080/"
    },
    "id": "D-lOWI_1jRMm",
    "outputId": "f4014a6e-b54f-482a-b57e-d5f1d32bb60f"
   },
   "outputs": [
    {
     "data": {
      "text/plain": [
       "(tensor([[1.8542],\n",
       "         [1.9611],\n",
       "         [2.2884],\n",
       "         [3.0481],\n",
       "         [1.7067],\n",
       "         [2.5290],\n",
       "         [1.7989]]),\n",
       " torch.Size([7, 1]))"
      ]
     },
     "execution_count": 45,
     "metadata": {},
     "output_type": "execute_result"
    }
   ],
   "source": [
    "# Set manual seed\n",
    "torch.random.manual_seed(0)\n",
    "\n",
    "# Create two random tensors\n",
    "tensor_C= torch.rand(7,7)\n",
    "tensor_D= torch.rand(1,7)\n",
    "\n",
    "# Matrix multiply tensors\n",
    "mult_CD =torch.matmul(tensor_C,tensor_D.T)\n",
    "mult_CD , mult_CD.shape"
   ]
  },
  {
   "cell_type": "markdown",
   "metadata": {
    "id": "ezY6ks9Cis37"
   },
   "source": [
    "### 5. Speaking of random seeds, we saw how to set it with `torch.manual_seed()` but is there a GPU equivalent? (hint: you'll need to look into the documentation for `torch.cuda` for this one)\n",
    "  * If there is, set the GPU random seed to `1234`."
   ]
  },
  {
   "cell_type": "code",
   "execution_count": 20,
   "metadata": {
    "colab": {
     "base_uri": "https://localhost:8080/"
    },
    "id": "_LKWcfSTjp00",
    "outputId": "0f10d798-ce42-4691-91b2-48f9c7dd4e6d"
   },
   "outputs": [],
   "source": [
    "# Set random seed on the GPU\n",
    "torch.cuda.manual_seed(1234)"
   ]
  },
  {
   "cell_type": "markdown",
   "metadata": {
    "id": "Ir9qSaj6it4n"
   },
   "source": [
    "\n",
    "### 6. Create two random tensors of shape `(2, 3)` and send them both to the GPU (you'll need access to a GPU for this). Set `torch.manual_seed(1234)` when creating the tensors (this doesn't have to be the GPU random seed). The output should be something like:\n",
    "\n",
    "```\n",
    "Device: cuda\n",
    "(tensor([[0.0290, 0.4019, 0.2598],\n",
    "         [0.3666, 0.0583, 0.7006]], device='cuda:0'),\n",
    " tensor([[0.0518, 0.4681, 0.6738],\n",
    "         [0.3315, 0.7837, 0.5631]], device='cuda:0'))\n",
    "```"
   ]
  },
  {
   "cell_type": "code",
   "execution_count": 40,
   "metadata": {
    "colab": {
     "base_uri": "https://localhost:8080/"
    },
    "id": "azXExiFZj5nm",
    "outputId": "98842c94-104c-4434-c362-b1a0530fd82f"
   },
   "outputs": [
    {
     "name": "stdout",
     "output_type": "stream",
     "text": [
      "Device: cuda\n",
      "tensor([[0.0290, 0.4019, 0.2598],\n",
      "        [0.3666, 0.0583, 0.7006]], device='cuda:0')\n",
      "tensor([[0.0518, 0.4681, 0.6738],\n",
      "        [0.3315, 0.7837, 0.5631]], device='cuda:0')\n"
     ]
    }
   ],
   "source": [
    "# Set random seed\n",
    "torch.random.manual_seed(1234)\n",
    "# Check for access to GPU\n",
    "torch.cuda.is_available()\n",
    "device = \"cuda\" if torch.cuda.is_available() else \"cpu\"\n",
    "print(\"Device: \"+ device)\n",
    "# Create two random tensors on GPU\n",
    "tensor_1 =torch.rand(2,3)\n",
    "tensor_2 =torch.rand(2,3)\n",
    "tensor_Gpu1 = tensor_1.to(device)\n",
    "tensor_Gpu2 = tensor_2.to(device)\n",
    "print(tensor_Gpu1)\n",
    "print(tensor_Gpu2)\n"
   ]
  },
  {
   "cell_type": "markdown",
   "metadata": {
    "id": "5TlAxeiSiu1y"
   },
   "source": [
    "\n",
    "### 7. Perform a matrix multiplication on the tensors you created in 6 (again, you may have to adjust the shapes of one of the tensors).\n",
    "\n",
    "The output should look like:\n",
    "```\n",
    "(tensor([[0.3647, 0.4709],\n",
    "         [0.5184, 0.5617]], device='cuda:0'), torch.Size([2, 2]))\n",
    "```"
   ]
  },
  {
   "cell_type": "code",
   "execution_count": 34,
   "metadata": {
    "colab": {
     "base_uri": "https://localhost:8080/"
    },
    "id": "fAeG7ox0lHEO",
    "outputId": "8de51b58-ea74-42df-b0e4-09f51ae9f2f0"
   },
   "outputs": [
    {
     "name": "stdout",
     "output_type": "stream",
     "text": [
      "tensor([[0.3647, 0.4709],\n",
      "        [0.5184, 0.5617]], device='cuda:0') torch.Size([2, 2])\n"
     ]
    }
   ],
   "source": [
    "# Perform matmul on tensor_A and tensor_B\n",
    "mult_tensor = torch.matmul(tensor_Gpu1 , tensor_Gpu2.T)\n",
    "print(mult_tensor,mult_tensor.shape)"
   ]
  },
  {
   "cell_type": "markdown",
   "metadata": {
    "id": "G7qfa5CSivwg"
   },
   "source": [
    "### 8. Find the maximum and minimum values of the output of 7."
   ]
  },
  {
   "cell_type": "code",
   "execution_count": 35,
   "metadata": {
    "colab": {
     "base_uri": "https://localhost:8080/"
    },
    "id": "Fu8_3mZpllOd",
    "outputId": "67037c5d-d2ec-47c9-c301-44cffec90ab6"
   },
   "outputs": [
    {
     "name": "stdout",
     "output_type": "stream",
     "text": [
      "tensor(0.5617, device='cuda:0')\n",
      "tensor(0.3647, device='cuda:0')\n"
     ]
    }
   ],
   "source": [
    "# Find max\n",
    "Max_number = torch.max(mult_tensor)\n",
    "print(Max_number)\n",
    "# Find min\n",
    "Min_number = torch.min(mult_tensor)\n",
    "print(Min_number)"
   ]
  },
  {
   "cell_type": "markdown",
   "metadata": {
    "id": "wrTj5FgNiw47"
   },
   "source": [
    "### 9. Find the maximum and minimum index values of the output of 7."
   ]
  },
  {
   "cell_type": "code",
   "execution_count": 37,
   "metadata": {
    "colab": {
     "base_uri": "https://localhost:8080/"
    },
    "id": "CCEKt4K2lsfQ",
    "outputId": "99335302-d7ca-4351-915a-0eb0f137411b"
   },
   "outputs": [
    {
     "name": "stdout",
     "output_type": "stream",
     "text": [
      "tensor(3, device='cuda:0')\n",
      "tensor(0, device='cuda:0')\n"
     ]
    },
    {
     "data": {
      "text/plain": [
       "tensor([[0.3647, 0.4709],\n",
       "        [0.5184, 0.5617]], device='cuda:0')"
      ]
     },
     "execution_count": 37,
     "metadata": {},
     "output_type": "execute_result"
    }
   ],
   "source": [
    "# Find arg max\n",
    "Arg_Max =torch.argmax(mult_tensor)\n",
    "print(Arg_Max)\n",
    "# Find arg min\n",
    "Arg_Min =torch.argmin(mult_tensor)\n",
    "print(Arg_Min)"
   ]
  },
  {
   "cell_type": "markdown",
   "metadata": {
    "id": "hmeybz4uixy7"
   },
   "source": [
    "\n",
    "### 10. Make a random tensor with shape `(1, 1, 1, 10)` and then create a new tensor with all the `1` dimensions removed to be left with a tensor of shape `(10)`. Set the seed to `7` when you create it and print out the first tensor and it's shape as well as the second tensor and it's shape.\n",
    "\n",
    "The output should look like:\n",
    "\n",
    "```\n",
    "tensor([[[[0.5349, 0.1988, 0.6592, 0.6569, 0.2328, 0.4251, 0.2071, 0.6297,\n",
    "           0.3653, 0.8513]]]]) torch.Size([1, 1, 1, 10])\n",
    "tensor([0.5349, 0.1988, 0.6592, 0.6569, 0.2328, 0.4251, 0.2071, 0.6297, 0.3653,\n",
    "        0.8513]) torch.Size([10])\n",
    "```"
   ]
  },
  {
   "cell_type": "code",
   "execution_count": 22,
   "metadata": {
    "colab": {
     "base_uri": "https://localhost:8080/"
    },
    "id": "TQ9zbRzVl1jV",
    "outputId": "de47034f-e75d-4f47-ef48-619597ed0dd0"
   },
   "outputs": [
    {
     "name": "stdout",
     "output_type": "stream",
     "text": [
      "tensor([[[[0.5349, 0.1988, 0.6592, 0.6569, 0.2328, 0.4251, 0.2071, 0.6297,\n",
      "           0.3653, 0.8513]]]]) torch.Size([1, 1, 1, 10])\n",
      "tensor([0.5349, 0.1988, 0.6592, 0.6569, 0.2328, 0.4251, 0.2071, 0.6297, 0.3653,\n",
      "        0.8513]) torch.Size([10])\n"
     ]
    }
   ],
   "source": [
    "# Set seed\n",
    "torch.manual_seed(7)\n",
    "# Create random tensor\n",
    "\n",
    "Tensor_A = torch.rand(1,1,1,10)\n",
    "\n",
    "# Remove single dimensions\n",
    "\n",
    "Tensor_B = Tensor_A.squeeze()\n",
    "\n",
    "# Print out tensors and their shapes\n",
    "print(Tensor_A,Tensor_A.shape)\n",
    "print(Tensor_B,Tensor_B.shape)\n"
   ]
  }
 ],
 "metadata": {
  "accelerator": "GPU",
  "colab": {
   "provenance": []
  },
  "kernelspec": {
   "display_name": "Python 3 (ipykernel)",
   "language": "python",
   "name": "python3"
  },
  "language_info": {
   "codemirror_mode": {
    "name": "ipython",
    "version": 3
   },
   "file_extension": ".py",
   "mimetype": "text/x-python",
   "name": "python",
   "nbconvert_exporter": "python",
   "pygments_lexer": "ipython3",
   "version": "3.12.4"
  }
 },
 "nbformat": 4,
 "nbformat_minor": 4
}
